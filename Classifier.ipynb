{
  "nbformat": 4,
  "nbformat_minor": 0,
  "metadata": {
    "colab": {
      "provenance": [],
      "toc_visible": true,
      "collapsed_sections": []
    },
    "kernelspec": {
      "name": "python3",
      "display_name": "Python 3"
    },
    "language_info": {
      "name": "python"
    }
  },
  "cells": [
    {
      "cell_type": "markdown",
      "source": [
        "\n",
        "\n",
        "**Import libraries**"
      ],
      "metadata": {
        "id": "Z-OPw17FqeTy"
      }
    },
    {
      "cell_type": "code",
      "execution_count": null,
      "metadata": {
        "id": "cdVz0yAfoOhF"
      },
      "outputs": [],
      "source": [
        "from keras.datasets import fashion_mnist\n",
        "from keras.models import Sequential\n",
        "from keras.layers import Dense,Conv2D,Dropout,MaxPooling2D,Flatten\n",
        "from keras.utils import np_utils"
      ]
    },
    {
      "cell_type": "markdown",
      "source": [
        "**Load the  dataset into Training and Testing sets**"
      ],
      "metadata": {
        "id": "9PakZ5gVqrwQ"
      }
    },
    {
      "cell_type": "code",
      "source": [
        "(x_train, y_train), (x_test, y_test) = fashion_mnist."
      ],
      "metadata": {
        "colab": {
          "base_uri": "https://localhost:8080/"
        },
        "id": "hY9dB00To7ju",
        "outputId": "78b8c6e3-5ba3-44df-f9b7-a6c9bedd63f9"
      },
      "execution_count": null,
      "outputs": [
        {
          "output_type": "stream",
          "name": "stdout",
          "text": [
            "Downloading data from https://storage.googleapis.com/tensorflow/tf-keras-datasets/train-labels-idx1-ubyte.gz\n",
            "32768/29515 [=================================] - 0s 0us/step\n",
            "40960/29515 [=========================================] - 0s 0us/step\n",
            "Downloading data from https://storage.googleapis.com/tensorflow/tf-keras-datasets/train-images-idx3-ubyte.gz\n",
            "26427392/26421880 [==============================] - 0s 0us/step\n",
            "26435584/26421880 [==============================] - 0s 0us/step\n",
            "Downloading data from https://storage.googleapis.com/tensorflow/tf-keras-datasets/t10k-labels-idx1-ubyte.gz\n",
            "16384/5148 [===============================================================================================] - 0s 0us/step\n",
            "Downloading data from https://storage.googleapis.com/tensorflow/tf-keras-datasets/t10k-images-idx3-ubyte.gz\n",
            "4423680/4422102 [==============================] - 0s 0us/step\n",
            "4431872/4422102 [==============================] - 0s 0us/step\n"
          ]
        }
      ]
    },
    {
      "cell_type": "markdown",
      "source": [
        "**Reshape and normalize the images**\n"
      ],
      "metadata": {
        "id": "stdJaGfwrGtO"
      }
    },
    {
      "cell_type": "code",
      "source": [
        "trainX = x_train.reshape((x_train.shape[0], 28, 28, 1))\n",
        "testX = x_test.reshape((x_test.shape[0], 28, 28, 1))\n",
        "trainX = trainX/255\n",
        "testX = testX/255"
      ],
      "metadata": {
        "id": "RiYAYtvYo-qL"
      },
      "execution_count": null,
      "outputs": []
    },
    {
      "cell_type": "code",
      "source": [
        "import matplotlib.pyplot as plt\n",
        "%matplotlib inline\n",
        "plt.imshow(x_test[14])"
      ],
      "metadata": {
        "colab": {
          "base_uri": "https://localhost:8080/",
          "height": 282
        },
        "id": "Cj-pAigZpAnS",
        "outputId": "5c71532e-2114-46b2-d283-ba0b48ee14d3"
      },
      "execution_count": null,
      "outputs": [
        {
          "output_type": "execute_result",
          "data": {
            "text/plain": [
              "<matplotlib.image.AxesImage at 0x7f29afce16d0>"
            ]
          },
          "metadata": {},
          "execution_count": 10
        },
        {
          "output_type": "display_data",
          "data": {
            "text/plain": [
              "<Figure size 432x288 with 1 Axes>"
            ],
            "image/png": "[encoded data removed]"
          },
          "metadata": {
            "needs_background": "light"
          }
        }
      ]
    },
    {
      "cell_type": "markdown",
      "source": [
        "**One hot encoding **"
      ],
      "metadata": {
        "id": "rQkqZHQCrh_i"
      }
    },
    {
      "cell_type": "code",
      "source": [
        "# One hot encoding is used to convert categorical data to integer data ( numerical input and output variables are required)\n",
        "\n",
        "trainY = np_utils.to_categorical(y_train,10)\n",
        "testY = np_utils.to_categorical(y_test,10)"
      ],
      "metadata": {
        "id": "sE6HqGUipDFo"
      },
      "execution_count": null,
      "outputs": []
    },
    {
      "cell_type": "markdown",
      "source": [
        "Build the model with Keras layers"
      ],
      "metadata": {
        "id": "JC-stDYMr_PI"
      }
    },
    {
      "cell_type": "code",
      "source": [
        "classifier = Sequential()\n",
        "classifier.add(Conv2D(filters=32, kernel_size=(3,3),strides=(1, 1), input_shape=(28,28,1), activation='relu')) #Conv2D layer with 32 filters  with relu activation function\n",
        "classifier.add(MaxPooling2D(pool_size=(2,2)))\n",
        "classifier.add(Conv2D(filters=64, kernel_size=(3,3),strides=(1, 1), activation='relu')) ##Conv2D layer with 64 filters  with relu activation function\n",
        "classifier.add(MaxPooling2D(pool_size=(2,2)))\n",
        "classifier.add(MaxPooling2D(pool_size=(2,2)))\n",
        "classifier.add(Flatten())\n",
        "classifier.add(Dense(units=128,activation='relu'))\n",
        "classifier.add(Dropout(rate=0.2)) #to prevent any overfitting we add a dropout regularization layer with ratio 0.2 \n",
        "classifier.add(Dense(units=10, activation='softmax')) #softmax layer with the 10 classes as output"
      ],
      "metadata": {
        "id": "yBDl-NVnpFG-"
      },
      "execution_count": null,
      "outputs": []
    },
    {
      "cell_type": "markdown",
      "source": [],
      "metadata": {
        "id": "gRTGdEccsmUk"
      }
    },
    {
      "cell_type": "code",
      "source": [
        "classifier.compile(optimizer='adam',loss='categorical_crossentropy',metrics=['accuracy'])\n"
      ],
      "metadata": {
        "id": "jusamTcapG7-"
      },
      "execution_count": null,
      "outputs": []
    },
    {
      "cell_type": "markdown",
      "source": [
        "**Model Summary**"
      ],
      "metadata": {
        "id": "4R-mprl4spyc"
      }
    },
    {
      "cell_type": "code",
      "source": [
        "classifier.summary()\n"
      ],
      "metadata": {
        "colab": {
          "base_uri": "https://localhost:8080/"
        },
        "id": "P_PSrJdqpIou",
        "outputId": "6f44b5f7-eef2-4c40-89a9-cfcf91298b8f"
      },
      "execution_count": null,
      "outputs": [
        {
          "output_type": "stream",
          "name": "stdout",
          "text": [
            "Model: \"sequential\"\n",
            "_________________________________________________________________\n",
            " Layer (type)                Output Shape              Param #   \n",
            "=================================================================\n",
            " conv2d (Conv2D)             (None, 26, 26, 32)        320       \n",
            "                                                                 \n",
            " max_pooling2d (MaxPooling2D  (None, 13, 13, 32)       0         \n",
            " )                                                               \n",
            "                                                                 \n",
            " conv2d_1 (Conv2D)           (None, 11, 11, 64)        18496     \n",
            "                                                                 \n",
            " max_pooling2d_1 (MaxPooling  (None, 5, 5, 64)         0         \n",
            " 2D)                                                             \n",
            "                                                                 \n",
            " flatten (Flatten)           (None, 1600)              0         \n",
            "                                                                 \n",
            " dense (Dense)               (None, 128)               204928    \n",
            "                                                                 \n",
            " dropout (Dropout)           (None, 128)               0         \n",
            "                                                                 \n",
            " dense_1 (Dense)             (None, 10)                1290      \n",
            "                                                                 \n",
            "=================================================================\n",
            "Total params: 225,034\n",
            "Trainable params: 225,034\n",
            "Non-trainable params: 0\n",
            "_________________________________________________________________\n"
          ]
        }
      ]
    },
    {
      "cell_type": "code",
      "source": [
        "history = classifier.fit(trainX, trainY,\n",
        " batch_size=128, epochs=20,\n",
        " verbose=2,\n",
        " validation_data=(testX, testY))"
      ],
      "metadata": {
        "colab": {
          "base_uri": "https://localhost:8080/"
        },
        "id": "HJLU42d9pK5N",
        "outputId": "f3c033fb-9081-4c66-f225-58254b06a78a"
      },
      "execution_count": null,
      "outputs": [
        {
          "output_type": "stream",
          "name": "stdout",
          "text": [
            "Epoch 1/20\n",
            "469/469 - 44s - loss: 0.5694 - accuracy: 0.7955 - val_loss: 0.4023 - val_accuracy: 0.8503 - 44s/epoch - 93ms/step\n",
            "Epoch 2/20\n",
            "469/469 - 43s - loss: 0.3664 - accuracy: 0.8669 - val_loss: 0.3438 - val_accuracy: 0.8753 - 43s/epoch - 91ms/step\n",
            "Epoch 3/20\n",
            "469/469 - 43s - loss: 0.3165 - accuracy: 0.8844 - val_loss: 0.3146 - val_accuracy: 0.8839 - 43s/epoch - 91ms/step\n",
            "Epoch 4/20\n",
            "469/469 - 43s - loss: 0.2856 - accuracy: 0.8944 - val_loss: 0.2834 - val_accuracy: 0.8959 - 43s/epoch - 91ms/step\n",
            "Epoch 5/20\n",
            "469/469 - 43s - loss: 0.2592 - accuracy: 0.9042 - val_loss: 0.2829 - val_accuracy: 0.8951 - 43s/epoch - 91ms/step\n",
            "Epoch 6/20\n",
            "469/469 - 43s - loss: 0.2437 - accuracy: 0.9095 - val_loss: 0.2579 - val_accuracy: 0.9057 - 43s/epoch - 91ms/step\n",
            "Epoch 7/20\n",
            "469/469 - 42s - loss: 0.2262 - accuracy: 0.9167 - val_loss: 0.2539 - val_accuracy: 0.9045 - 42s/epoch - 90ms/step\n",
            "Epoch 8/20\n",
            "469/469 - 43s - loss: 0.2117 - accuracy: 0.9218 - val_loss: 0.2506 - val_accuracy: 0.9078 - 43s/epoch - 91ms/step\n",
            "Epoch 9/20\n",
            "469/469 - 44s - loss: 0.1982 - accuracy: 0.9254 - val_loss: 0.2391 - val_accuracy: 0.9111 - 44s/epoch - 93ms/step\n",
            "Epoch 10/20\n",
            "469/469 - 46s - loss: 0.1860 - accuracy: 0.9303 - val_loss: 0.2433 - val_accuracy: 0.9118 - 46s/epoch - 97ms/step\n",
            "Epoch 11/20\n",
            "469/469 - 43s - loss: 0.1731 - accuracy: 0.9342 - val_loss: 0.2410 - val_accuracy: 0.9117 - 43s/epoch - 92ms/step\n",
            "Epoch 12/20\n",
            "469/469 - 47s - loss: 0.1637 - accuracy: 0.9386 - val_loss: 0.2425 - val_accuracy: 0.9112 - 47s/epoch - 101ms/step\n",
            "Epoch 13/20\n",
            "469/469 - 46s - loss: 0.1525 - accuracy: 0.9437 - val_loss: 0.2496 - val_accuracy: 0.9137 - 46s/epoch - 98ms/step\n",
            "Epoch 14/20\n",
            "469/469 - 44s - loss: 0.1418 - accuracy: 0.9464 - val_loss: 0.2526 - val_accuracy: 0.9148 - 44s/epoch - 94ms/step\n",
            "Epoch 15/20\n",
            "469/469 - 46s - loss: 0.1347 - accuracy: 0.9489 - val_loss: 0.2427 - val_accuracy: 0.9131 - 46s/epoch - 98ms/step\n",
            "Epoch 16/20\n",
            "469/469 - 46s - loss: 0.1242 - accuracy: 0.9530 - val_loss: 0.2509 - val_accuracy: 0.9155 - 46s/epoch - 98ms/step\n",
            "Epoch 17/20\n",
            "469/469 - 43s - loss: 0.1177 - accuracy: 0.9558 - val_loss: 0.2537 - val_accuracy: 0.9149 - 43s/epoch - 91ms/step\n",
            "Epoch 18/20\n",
            "469/469 - 50s - loss: 0.1108 - accuracy: 0.9587 - val_loss: 0.2615 - val_accuracy: 0.9177 - 50s/epoch - 106ms/step\n",
            "Epoch 19/20\n",
            "469/469 - 45s - loss: 0.1032 - accuracy: 0.9613 - val_loss: 0.2746 - val_accuracy: 0.9147 - 45s/epoch - 96ms/step\n",
            "Epoch 20/20\n",
            "469/469 - 47s - loss: 0.0956 - accuracy: 0.9646 - val_loss: 0.2771 - val_accuracy: 0.9127 - 47s/epoch - 101ms/step\n"
          ]
        }
      ]
    },
    {
      "cell_type": "code",
      "source": [
        "\tclassifier.save('final_model.h5')\n"
      ],
      "metadata": {
        "id": "6cjrvNhjuDJ5"
      },
      "execution_count": null,
      "outputs": []
    }
  ]
}